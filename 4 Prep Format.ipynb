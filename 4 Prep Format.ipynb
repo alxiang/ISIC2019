{
 "cells": [
  {
   "cell_type": "raw",
   "metadata": {},
   "source": [
    "this file prepares images for training on AWS GPUs\n",
    "\n",
    "currently notebook configured to not use any data augmentation"
   ]
  },
  {
   "cell_type": "code",
   "execution_count": 1,
   "metadata": {},
   "outputs": [],
   "source": [
    "import pandas as pd\n",
    "import numpy as np\n",
    "from glob import glob\n",
    "from tqdm import tqdm_notebook\n",
    "from skimage import io"
   ]
  },
  {
   "cell_type": "code",
   "execution_count": 2,
   "metadata": {},
   "outputs": [],
   "source": [
    "TRAIN = pd.read_csv(\"TRAIN.csv\", index_col=0)\n",
    "TEST = pd.read_csv(\"TEST.csv\", index_col=0)\n",
    "\n",
    "AUGMENTED = pd.read_csv(\"AUGMENTED.csv\", index_col=0)"
   ]
  },
  {
   "cell_type": "code",
   "execution_count": 3,
   "metadata": {},
   "outputs": [
    {
     "data": {
      "text/plain": [
       "Index(['ISIC_0024477', 'ISIC_0033198', 'ISIC_0056165', 'ISIC_0033296',\n",
       "       'ISIC_0028517', 'ISIC_0033132', 'ISIC_0054239', 'ISIC_0029587',\n",
       "       'ISIC_0067320', 'ISIC_0033673',\n",
       "       ...\n",
       "       'ISIC_0028689', 'ISIC_0053970', 'ISIC_0054923', 'ISIC_0071643',\n",
       "       'ISIC_0031209', 'ISIC_0053666', 'ISIC_0031161', 'ISIC_0059570',\n",
       "       'ISIC_0033437', 'ISIC_0069002'],\n",
       "      dtype='object', name='image', length=20264)"
      ]
     },
     "execution_count": 3,
     "metadata": {},
     "output_type": "execute_result"
    }
   ],
   "source": [
    "TRAIN.index"
   ]
  },
  {
   "cell_type": "markdown",
   "metadata": {},
   "source": [
    "# Prepare Training and Validation Sets"
   ]
  },
  {
   "cell_type": "code",
   "execution_count": 4,
   "metadata": {},
   "outputs": [],
   "source": [
    "# numpy arrays for input and targets\n",
    "imageList = []\n",
    "targetList = []\n",
    "\n",
    "imageValList = []\n",
    "targetValList = []\n"
   ]
  },
  {
   "cell_type": "code",
   "execution_count": 5,
   "metadata": {},
   "outputs": [],
   "source": [
    "# load kfold splits\n",
    "\n",
    "foldList = np.load(\"kfold-splits.npy\")"
   ]
  },
  {
   "cell_type": "markdown",
   "metadata": {},
   "source": [
    "Fill in imageList and targetList with 4 folds"
   ]
  },
  {
   "cell_type": "code",
   "execution_count": 6,
   "metadata": {},
   "outputs": [
    {
     "data": {
      "application/vnd.jupyter.widget-view+json": {
       "model_id": "ca069415344a486cb907f480aa4c51da",
       "version_major": 2,
       "version_minor": 0
      },
      "text/plain": [
       "HBox(children=(IntProgress(value=0, max=16215), HTML(value='')))"
      ]
     },
     "metadata": {},
     "output_type": "display_data"
    },
    {
     "name": "stdout",
     "output_type": "stream",
     "text": [
      "\n"
     ]
    }
   ],
   "source": [
    "training_images = np.concatenate([foldList[0], foldList[1], foldList[2], foldList[3]])\n",
    "for name in tqdm_notebook(training_images):\n",
    "\n",
    "    imageList.append(io.imread(\"Processed Images/TRAIN/\"+name+\".jpg\"))\n",
    "    targetList.append(np.array(TRAIN.loc[name]))\n",
    "\n",
    "    # Add augmented images also\n",
    "    for i in range(4):\n",
    "        imageList.append(io.imread(\"Processed Images/AUGMENTED/\"+name+\"_\"+str(i)+\".jpg\"))\n",
    "        targetList.append(np.array(AUGMENTED.loc[name+\"_\"+str(i)]))"
   ]
  },
  {
   "cell_type": "markdown",
   "metadata": {},
   "source": [
    "Fill in imageValList and targetValList with remaining fold"
   ]
  },
  {
   "cell_type": "code",
   "execution_count": 7,
   "metadata": {},
   "outputs": [
    {
     "data": {
      "application/vnd.jupyter.widget-view+json": {
       "model_id": "bc6b1f21437840d28bc68f1e6d496a43",
       "version_major": 2,
       "version_minor": 0
      },
      "text/plain": [
       "HBox(children=(IntProgress(value=0, max=4049), HTML(value='')))"
      ]
     },
     "metadata": {},
     "output_type": "display_data"
    },
    {
     "name": "stdout",
     "output_type": "stream",
     "text": [
      "\n"
     ]
    }
   ],
   "source": [
    "validation_images = foldList[4]\n",
    "for name in tqdm_notebook(validation_images):\n",
    "    \n",
    "    imageValList.append(io.imread(\"Processed Images/TRAIN/\"+name+\".jpg\"))\n",
    "    targetValList.append(np.array(TRAIN.loc[name]))"
   ]
  },
  {
   "cell_type": "code",
   "execution_count": 8,
   "metadata": {},
   "outputs": [],
   "source": [
    "imageList = np.array(imageList)\n",
    "targetList = np.array(targetList)\n",
    "\n",
    "imageValList = np.array(imageValList)\n",
    "targetValList = np.array(targetValList)"
   ]
  },
  {
   "cell_type": "markdown",
   "metadata": {},
   "source": [
    "Compute weights for CNNs:\n",
    "\n",
    "(weight of class) = (total number of samples)/(number of samples in class)"
   ]
  },
  {
   "cell_type": "code",
   "execution_count": 9,
   "metadata": {},
   "outputs": [
    {
     "data": {
      "text/plain": [
       "array([0.17853839, 0.50817145, 0.13117484, 0.03428924, 0.10360777,\n",
       "       0.00943571, 0.00999075, 0.02479186, 0.        ])"
      ]
     },
     "execution_count": 9,
     "metadata": {},
     "output_type": "execute_result"
    }
   ],
   "source": [
    "# training and validation images should have same proportions\n",
    "\n",
    "np.sum(targetList, axis = 0)/np.sum(targetList)"
   ]
  },
  {
   "cell_type": "code",
   "execution_count": 10,
   "metadata": {},
   "outputs": [
    {
     "name": "stderr",
     "output_type": "stream",
     "text": [
      "/Users/alecx/anaconda3/lib/python3.6/site-packages/ipykernel_launcher.py:3: RuntimeWarning: divide by zero encountered in true_divide\n",
      "  This is separate from the ipykernel package so we can avoid doing imports until\n"
     ]
    },
    {
     "data": {
      "text/plain": [
       "array([  5.60103627,   1.96783981,   7.62341326,  29.16366906,\n",
       "         9.65178571, 105.98039216, 100.09259259,  40.3358209 ,\n",
       "                inf])"
      ]
     },
     "execution_count": 10,
     "metadata": {},
     "output_type": "execute_result"
    }
   ],
   "source": [
    "# training and validation images should have same weights\n",
    "\n",
    "np.repeat(np.sum(targetList), 9)/np.sum(targetList, axis=0)"
   ]
  },
  {
   "cell_type": "code",
   "execution_count": 11,
   "metadata": {},
   "outputs": [],
   "source": [
    "#np.save(\"targetList\", targetList)\n",
    "#np.save(\"imageValList\", imageValList)\n",
    "#np.save(\"targetValList\", targetValList)"
   ]
  },
  {
   "cell_type": "code",
   "execution_count": 12,
   "metadata": {},
   "outputs": [
    {
     "data": {
      "text/plain": [
       "array([122.99706054, 123.32571592, 122.96095975])"
      ]
     },
     "execution_count": 12,
     "metadata": {},
     "output_type": "execute_result"
    }
   ],
   "source": [
    "np.mean(imageList, axis = tuple(range(imageList.ndim-1)))"
   ]
  },
  {
   "cell_type": "code",
   "execution_count": 13,
   "metadata": {},
   "outputs": [
    {
     "data": {
      "text/plain": [
       "array([134.18139192, 134.63107858, 134.19047578])"
      ]
     },
     "execution_count": 13,
     "metadata": {},
     "output_type": "execute_result"
    }
   ],
   "source": [
    "np.mean(imageValList, axis = tuple(range(imageValList.ndim-1)))"
   ]
  },
  {
   "cell_type": "markdown",
   "metadata": {},
   "source": [
    "# Prepare Test Set"
   ]
  },
  {
   "cell_type": "code",
   "execution_count": 14,
   "metadata": {},
   "outputs": [],
   "source": [
    "testList = []\n",
    "targetTestList = []"
   ]
  },
  {
   "cell_type": "code",
   "execution_count": 15,
   "metadata": {},
   "outputs": [
    {
     "data": {
      "application/vnd.jupyter.widget-view+json": {
       "model_id": "82082137f89f4fb3b69a94a7d99a0224",
       "version_major": 2,
       "version_minor": 0
      },
      "text/plain": [
       "HBox(children=(IntProgress(value=0, max=5067), HTML(value='')))"
      ]
     },
     "metadata": {},
     "output_type": "display_data"
    },
    {
     "name": "stdout",
     "output_type": "stream",
     "text": [
      "\n"
     ]
    }
   ],
   "source": [
    "test_images = TEST.index\n",
    "for name in tqdm_notebook(test_images):\n",
    "    \n",
    "    testList.append(io.imread(\"Processed Images/TEST/\"+name+\".jpg\"))\n",
    "    targetTestList.append(np.array(TEST.loc[name])) "
   ]
  },
  {
   "cell_type": "code",
   "execution_count": 16,
   "metadata": {},
   "outputs": [],
   "source": [
    "testList = np.array(testList)\n",
    "targetTestList = np.array(targetTestList)"
   ]
  },
  {
   "cell_type": "code",
   "execution_count": 17,
   "metadata": {},
   "outputs": [
    {
     "data": {
      "text/plain": [
       "array([0.17840932, 0.50819025, 0.13124137, 0.03414249, 0.1036116 ,\n",
       "       0.00947306, 0.01006513, 0.02486679, 0.        ])"
      ]
     },
     "execution_count": 17,
     "metadata": {},
     "output_type": "execute_result"
    }
   ],
   "source": [
    "np.sum(targetTestList, axis = 0)/np.sum(targetTestList)"
   ]
  },
  {
   "cell_type": "code",
   "execution_count": 18,
   "metadata": {},
   "outputs": [
    {
     "name": "stderr",
     "output_type": "stream",
     "text": [
      "/Users/alecx/anaconda3/lib/python3.6/site-packages/ipykernel_launcher.py:1: RuntimeWarning: divide by zero encountered in true_divide\n",
      "  \"\"\"Entry point for launching an IPython kernel.\n"
     ]
    },
    {
     "data": {
      "text/plain": [
       "array([  5.6050885 ,   1.96776699,   7.61954887,  29.28901734,\n",
       "         9.65142857, 105.5625    ,  99.35294118,  40.21428571,\n",
       "                inf])"
      ]
     },
     "execution_count": 18,
     "metadata": {},
     "output_type": "execute_result"
    }
   ],
   "source": [
    "np.repeat(np.sum(targetTestList), 9)/np.sum(targetTestList, axis=0)"
   ]
  },
  {
   "cell_type": "markdown",
   "metadata": {},
   "source": [
    "# Save all the arrays"
   ]
  },
  {
   "cell_type": "code",
   "execution_count": 19,
   "metadata": {},
   "outputs": [],
   "source": [
    "np.savez_compressed(\"/Users/alecx/Downloads/AWS-LESIONDATA-2019\",\n",
    "                    imageList=imageList, targetList=targetList,\n",
    "                    imageValList=imageValList, targetValList=targetValList,\n",
    "                    testList=testList, targetTestList=targetTestList)\n"
   ]
  },
  {
   "cell_type": "code",
   "execution_count": null,
   "metadata": {},
   "outputs": [],
   "source": [
    "pd.DataFrame(targetList).sum()"
   ]
  },
  {
   "cell_type": "code",
   "execution_count": null,
   "metadata": {},
   "outputs": [],
   "source": []
  }
 ],
 "metadata": {
  "kernelspec": {
   "display_name": "Python 3",
   "language": "python",
   "name": "python3"
  },
  "language_info": {
   "codemirror_mode": {
    "name": "ipython",
    "version": 3
   },
   "file_extension": ".py",
   "mimetype": "text/x-python",
   "name": "python",
   "nbconvert_exporter": "python",
   "pygments_lexer": "ipython3",
   "version": "3.6.5"
  }
 },
 "nbformat": 4,
 "nbformat_minor": 2
}
