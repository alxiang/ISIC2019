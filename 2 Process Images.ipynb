{
 "cells": [
  {
   "cell_type": "markdown",
   "metadata": {
    "toc": true
   },
   "source": [
    "<h1>Table of Contents<span class=\"tocSkip\"></span></h1>\n",
    "<div class=\"toc\"><ul class=\"toc-item\"><li><span><a href=\"#Process-TEST-set\" data-toc-modified-id=\"Process-TEST-set-1\"><span class=\"toc-item-num\">1&nbsp;&nbsp;</span>Process TEST set</a></span></li><li><span><a href=\"#Process-TRAIN-set\" data-toc-modified-id=\"Process-TRAIN-set-2\"><span class=\"toc-item-num\">2&nbsp;&nbsp;</span>Process TRAIN set</a></span></li></ul></div>"
   ]
  },
  {
   "cell_type": "raw",
   "metadata": {},
   "source": [
    "Code can be made faster by changing order of \"if\" statements to reduce operations"
   ]
  },
  {
   "cell_type": "code",
   "execution_count": 1,
   "metadata": {},
   "outputs": [],
   "source": [
    "import pandas as pd\n",
    "import numpy as np\n",
    "import cv2\n",
    "from skimage import color\n",
    "from skimage import io\n",
    "\n",
    "from scipy import misc"
   ]
  },
  {
   "cell_type": "code",
   "execution_count": 2,
   "metadata": {},
   "outputs": [],
   "source": [
    "TRAIN = pd.read_csv(\"TRAIN.csv\", index_col=0)\n",
    "TEST = pd.read_csv(\"TEST.csv\", index_col=0)"
   ]
  },
  {
   "cell_type": "code",
   "execution_count": 4,
   "metadata": {},
   "outputs": [],
   "source": [
    "# Grey world color correction algorithm\n",
    "# from https://gist.github.com/shunsukeaihara/4603234\n",
    "\n",
    "def grey_world(nimg):\n",
    "    nimg = nimg.transpose(2, 0, 1).astype(np.uint32)\n",
    "    mu_g = np.average(nimg[1])\n",
    "    nimg[0] = np.minimum(nimg[0]*(mu_g/np.average(nimg[0])),255)\n",
    "    nimg[2] = np.minimum(nimg[2]*(mu_g/np.average(nimg[2])),255)\n",
    "    return nimg.transpose(1, 2, 0).astype(np.uint8)"
   ]
  },
  {
   "cell_type": "markdown",
   "metadata": {},
   "source": [
    "## Process TEST set"
   ]
  },
  {
   "cell_type": "code",
   "execution_count": 5,
   "metadata": {},
   "outputs": [],
   "source": [
    "import numpy as np\n",
    "\n",
    "def process_image(name): # takes filename of the lesion sample\n",
    "    img = io.imread(\"ISIC_2019_Training_Input/\"+name+\".jpg\")\n",
    "    img = grey_world(img)\n",
    "    img = cv2.resize(img, dsize=(224, 224))#, interpolation=cv2.INTER_CUBIC)\n",
    "\n",
    "    misc.imsave(\"Processed Images/TEST/\"+ name+\".jpg\", img)"
   ]
  },
  {
   "cell_type": "code",
   "execution_count": 6,
   "metadata": {},
   "outputs": [
    {
     "data": {
      "application/vnd.jupyter.widget-view+json": {
       "model_id": "8e17f9993b8f4edc8f0bbcc968d2648c",
       "version_major": 2,
       "version_minor": 0
      },
      "text/plain": [
       "HBox(children=(IntProgress(value=0, max=5067), HTML(value='')))"
      ]
     },
     "metadata": {},
     "output_type": "display_data"
    },
    {
     "name": "stderr",
     "output_type": "stream",
     "text": [
      "/Users/alecx/anaconda3/lib/python3.6/site-packages/ipykernel_launcher.py:8: DeprecationWarning: `imsave` is deprecated!\n",
      "`imsave` is deprecated in SciPy 1.0.0, and will be removed in 1.2.0.\n",
      "Use ``imageio.imwrite`` instead.\n",
      "  \n"
     ]
    },
    {
     "name": "stdout",
     "output_type": "stream",
     "text": [
      "\n",
      "Run time for 5067 images: 2.894350834687551 minutes\n"
     ]
    }
   ],
   "source": [
    "import time\n",
    "from tqdm import tqdm_notebook\n",
    "start = time.time()\n",
    "for lesion in tqdm_notebook(TEST.index):\n",
    "    process_image(lesion)\n",
    "    \n",
    "end = time.time()\n",
    "print(\"Run time for \"+ str(len(TEST.index)) + \" images: \" + str((end - start)/60)+\" minutes\")    "
   ]
  },
  {
   "cell_type": "code",
   "execution_count": 7,
   "metadata": {},
   "outputs": [
    {
     "data": {
      "text/plain": [
       "5067"
      ]
     },
     "execution_count": 7,
     "metadata": {},
     "output_type": "execute_result"
    }
   ],
   "source": [
    "from glob import glob\n",
    "filelist = glob(\"Processed Images/TEST/ISIC_*.jpg\")\n",
    "len(filelist)"
   ]
  },
  {
   "cell_type": "markdown",
   "metadata": {},
   "source": [
    "## Process TRAIN set"
   ]
  },
  {
   "cell_type": "code",
   "execution_count": 11,
   "metadata": {},
   "outputs": [],
   "source": [
    "def process_steps(name): # performs same steps as process_image but saves img in TRAIN\n",
    "    img = io.imread(\"ISIC_2019_Training_Input/\"+name+\".jpg\")\n",
    "    img = grey_world(img)\n",
    "    img = cv2.resize(img, dsize=(224, 224))#, interpolation=cv2.INTER_CUBIC)\n",
    "\n",
    "    \n",
    "    misc.imsave(\"Processed Images/TRAIN/\"+ name+\".jpg\", img)"
   ]
  },
  {
   "cell_type": "code",
   "execution_count": 12,
   "metadata": {},
   "outputs": [
    {
     "data": {
      "application/vnd.jupyter.widget-view+json": {
       "model_id": "f4b5c89551eb4f978c8c07b038fa7cee",
       "version_major": 2,
       "version_minor": 0
      },
      "text/plain": [
       "HBox(children=(IntProgress(value=0, max=20264), HTML(value='')))"
      ]
     },
     "metadata": {},
     "output_type": "display_data"
    },
    {
     "name": "stderr",
     "output_type": "stream",
     "text": [
      "/Users/alecx/anaconda3/lib/python3.6/site-packages/ipykernel_launcher.py:7: DeprecationWarning: `imsave` is deprecated!\n",
      "`imsave` is deprecated in SciPy 1.0.0, and will be removed in 1.2.0.\n",
      "Use ``imageio.imwrite`` instead.\n",
      "  import sys\n"
     ]
    },
    {
     "name": "stdout",
     "output_type": "stream",
     "text": [
      "\n",
      "Run time for 20264 images: 11.498 minutes\n"
     ]
    }
   ],
   "source": [
    "import time\n",
    "from tqdm import tqdm_notebook\n",
    "\n",
    "start = time.time()\n",
    "for lesion in tqdm_notebook(TRAIN.index):\n",
    "    process_steps(lesion)\n",
    "     \n",
    "end = time.time()\n",
    "print(\"Run time for \"+ str(len(TRAIN.index)) + \" images: \" + str(round((end - start)/60, 3))+\" minutes\")    \n"
   ]
  },
  {
   "cell_type": "code",
   "execution_count": 15,
   "metadata": {},
   "outputs": [
    {
     "data": {
      "text/plain": [
       "20264"
      ]
     },
     "execution_count": 15,
     "metadata": {},
     "output_type": "execute_result"
    }
   ],
   "source": [
    "filelist = glob(\"Processed Images/TRAIN/ISIC_*.jpg\")\n",
    "len(filelist)"
   ]
  },
  {
   "cell_type": "code",
   "execution_count": null,
   "metadata": {},
   "outputs": [],
   "source": []
  }
 ],
 "metadata": {
  "kernelspec": {
   "display_name": "Python 3",
   "language": "python",
   "name": "python3"
  },
  "language_info": {
   "codemirror_mode": {
    "name": "ipython",
    "version": 3
   },
   "file_extension": ".py",
   "mimetype": "text/x-python",
   "name": "python",
   "nbconvert_exporter": "python",
   "pygments_lexer": "ipython3",
   "version": "3.6.5"
  },
  "toc": {
   "nav_menu": {},
   "number_sections": true,
   "sideBar": true,
   "skip_h1_title": true,
   "title_cell": "Table of Contents",
   "title_sidebar": "Contents",
   "toc_cell": true,
   "toc_position": {},
   "toc_section_display": true,
   "toc_window_display": false
  }
 },
 "nbformat": 4,
 "nbformat_minor": 2
}
